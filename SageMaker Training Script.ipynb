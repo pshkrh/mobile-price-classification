{
 "cells": [
  {
   "cell_type": "code",
   "execution_count": 103,
   "metadata": {
    "collapsed": true,
    "ExecuteTime": {
     "end_time": "2023-08-05T04:02:39.930619Z",
     "start_time": "2023-08-05T04:02:39.917990Z"
    }
   },
   "outputs": [],
   "source": [
    "import sagemaker\n",
    "from sklearn.model_selection import train_test_split\n",
    "import boto3\n",
    "import pandas as pd\n",
    "from sagemaker.sklearn.estimator import SKLearn\n",
    "import yaml"
   ]
  },
  {
   "cell_type": "code",
   "execution_count": 104,
   "outputs": [],
   "source": [
    "with open(\"env-vars.yml\") as f:\n",
    "    env_vars = yaml.safe_load(f)\n",
    "\n",
    "sagemaker_role = env_vars['sagemaker-role-arn']\n",
    "sagemaker_profile = env_vars['sagemaker-profile']\n",
    "bucket_name = env_vars['s3-bucket-name']"
   ],
   "metadata": {
    "collapsed": false,
    "ExecuteTime": {
     "end_time": "2023-08-05T04:02:44.421242Z",
     "start_time": "2023-08-05T04:02:44.418851Z"
    }
   }
  },
  {
   "cell_type": "code",
   "execution_count": 105,
   "outputs": [
    {
     "name": "stderr",
     "output_type": "stream",
     "text": [
      "INFO:botocore.credentials:Found credentials in shared credentials file: ~/.aws/credentials\n"
     ]
    },
    {
     "name": "stdout",
     "output_type": "stream",
     "text": [
      "Using bucket mobile-price\n"
     ]
    }
   ],
   "source": [
    "boto3_client = boto3.client('sagemaker')\n",
    "boto3.setup_default_session(profile_name=sagemaker_profile)\n",
    "session = sagemaker.Session()\n",
    "region = session.boto_session.region_name\n",
    "bucket = bucket_name\n",
    "print(f\"Using bucket {bucket}\")"
   ],
   "metadata": {
    "collapsed": false,
    "ExecuteTime": {
     "end_time": "2023-08-05T04:02:45.315544Z",
     "start_time": "2023-08-05T04:02:45.022793Z"
    }
   }
  },
  {
   "cell_type": "code",
   "execution_count": 71,
   "outputs": [],
   "source": [
    "train_data = pd.read_csv(\"data/train.csv\")"
   ],
   "metadata": {
    "collapsed": false,
    "ExecuteTime": {
     "end_time": "2023-08-04T15:02:05.019644Z",
     "start_time": "2023-08-04T15:02:05.014413Z"
    }
   }
  },
  {
   "cell_type": "code",
   "execution_count": 72,
   "outputs": [
    {
     "data": {
      "text/plain": "   battery_power  blue  clock_speed  dual_sim  fc  four_g  internal_memory  \\\n0            842     0          2.2         0   1       0                7   \n1           1021     1          0.5         1   0       1               53   \n2            563     1          0.5         1   2       1               41   \n3            615     1          2.5         0   0       0               10   \n4           1821     1          1.2         0  13       1               44   \n\n   m_dep  mobile_wt  n_cores  ...  px_height  px_width   ram  sc_h  sc_w  \\\n0    0.6        188        2  ...         20       756  2549     9     7   \n1    0.7        136        3  ...        905      1988  2631    17     3   \n2    0.9        145        5  ...       1263      1716  2603    11     2   \n3    0.8        131        6  ...       1216      1786  2769    16     8   \n4    0.6        141        2  ...       1208      1212  1411     8     2   \n\n   talk_time  three_g  touch_screen  wifi  price_range  \n0         19        0             0     1            1  \n1          7        1             1     0            2  \n2          9        1             1     0            2  \n3         11        1             0     0            2  \n4         15        1             1     0            1  \n\n[5 rows x 21 columns]",
      "text/html": "<div>\n<style scoped>\n    .dataframe tbody tr th:only-of-type {\n        vertical-align: middle;\n    }\n\n    .dataframe tbody tr th {\n        vertical-align: top;\n    }\n\n    .dataframe thead th {\n        text-align: right;\n    }\n</style>\n<table border=\"1\" class=\"dataframe\">\n  <thead>\n    <tr style=\"text-align: right;\">\n      <th></th>\n      <th>battery_power</th>\n      <th>blue</th>\n      <th>clock_speed</th>\n      <th>dual_sim</th>\n      <th>fc</th>\n      <th>four_g</th>\n      <th>internal_memory</th>\n      <th>m_dep</th>\n      <th>mobile_wt</th>\n      <th>n_cores</th>\n      <th>...</th>\n      <th>px_height</th>\n      <th>px_width</th>\n      <th>ram</th>\n      <th>sc_h</th>\n      <th>sc_w</th>\n      <th>talk_time</th>\n      <th>three_g</th>\n      <th>touch_screen</th>\n      <th>wifi</th>\n      <th>price_range</th>\n    </tr>\n  </thead>\n  <tbody>\n    <tr>\n      <th>0</th>\n      <td>842</td>\n      <td>0</td>\n      <td>2.2</td>\n      <td>0</td>\n      <td>1</td>\n      <td>0</td>\n      <td>7</td>\n      <td>0.6</td>\n      <td>188</td>\n      <td>2</td>\n      <td>...</td>\n      <td>20</td>\n      <td>756</td>\n      <td>2549</td>\n      <td>9</td>\n      <td>7</td>\n      <td>19</td>\n      <td>0</td>\n      <td>0</td>\n      <td>1</td>\n      <td>1</td>\n    </tr>\n    <tr>\n      <th>1</th>\n      <td>1021</td>\n      <td>1</td>\n      <td>0.5</td>\n      <td>1</td>\n      <td>0</td>\n      <td>1</td>\n      <td>53</td>\n      <td>0.7</td>\n      <td>136</td>\n      <td>3</td>\n      <td>...</td>\n      <td>905</td>\n      <td>1988</td>\n      <td>2631</td>\n      <td>17</td>\n      <td>3</td>\n      <td>7</td>\n      <td>1</td>\n      <td>1</td>\n      <td>0</td>\n      <td>2</td>\n    </tr>\n    <tr>\n      <th>2</th>\n      <td>563</td>\n      <td>1</td>\n      <td>0.5</td>\n      <td>1</td>\n      <td>2</td>\n      <td>1</td>\n      <td>41</td>\n      <td>0.9</td>\n      <td>145</td>\n      <td>5</td>\n      <td>...</td>\n      <td>1263</td>\n      <td>1716</td>\n      <td>2603</td>\n      <td>11</td>\n      <td>2</td>\n      <td>9</td>\n      <td>1</td>\n      <td>1</td>\n      <td>0</td>\n      <td>2</td>\n    </tr>\n    <tr>\n      <th>3</th>\n      <td>615</td>\n      <td>1</td>\n      <td>2.5</td>\n      <td>0</td>\n      <td>0</td>\n      <td>0</td>\n      <td>10</td>\n      <td>0.8</td>\n      <td>131</td>\n      <td>6</td>\n      <td>...</td>\n      <td>1216</td>\n      <td>1786</td>\n      <td>2769</td>\n      <td>16</td>\n      <td>8</td>\n      <td>11</td>\n      <td>1</td>\n      <td>0</td>\n      <td>0</td>\n      <td>2</td>\n    </tr>\n    <tr>\n      <th>4</th>\n      <td>1821</td>\n      <td>1</td>\n      <td>1.2</td>\n      <td>0</td>\n      <td>13</td>\n      <td>1</td>\n      <td>44</td>\n      <td>0.6</td>\n      <td>141</td>\n      <td>2</td>\n      <td>...</td>\n      <td>1208</td>\n      <td>1212</td>\n      <td>1411</td>\n      <td>8</td>\n      <td>2</td>\n      <td>15</td>\n      <td>1</td>\n      <td>1</td>\n      <td>0</td>\n      <td>1</td>\n    </tr>\n  </tbody>\n</table>\n<p>5 rows × 21 columns</p>\n</div>"
     },
     "execution_count": 72,
     "metadata": {},
     "output_type": "execute_result"
    }
   ],
   "source": [
    "train_data.head()"
   ],
   "metadata": {
    "collapsed": false,
    "ExecuteTime": {
     "end_time": "2023-08-04T15:02:05.157176Z",
     "start_time": "2023-08-04T15:02:05.154900Z"
    }
   }
  },
  {
   "cell_type": "code",
   "execution_count": 73,
   "outputs": [],
   "source": [
    "features = list(train_data.columns)\n",
    "label = features.pop(-1)\n",
    "\n",
    "x = train_data[features]\n",
    "y = train_data[label]\n",
    "\n",
    "X_train, X_test, y_train, y_test = train_test_split(x, y, test_size=0.15, random_state=0)"
   ],
   "metadata": {
    "collapsed": false,
    "ExecuteTime": {
     "end_time": "2023-08-04T15:02:05.306639Z",
     "start_time": "2023-08-04T15:02:05.302681Z"
    }
   }
  },
  {
   "cell_type": "code",
   "execution_count": 74,
   "outputs": [],
   "source": [
    "train_x = pd.DataFrame(X_train)\n",
    "train_x[label] = y_train\n",
    "\n",
    "test_x = pd.DataFrame(X_test)\n",
    "test_x[label] = y_test"
   ],
   "metadata": {
    "collapsed": false,
    "ExecuteTime": {
     "end_time": "2023-08-04T15:02:05.461744Z",
     "start_time": "2023-08-04T15:02:05.459685Z"
    }
   }
  },
  {
   "cell_type": "code",
   "execution_count": 75,
   "outputs": [],
   "source": [
    "train_x.to_csv(\"data/mobile-price-train.csv\", index=False)\n",
    "test_x.to_csv(\"data/mobile-price-test.csv\", index=False)"
   ],
   "metadata": {
    "collapsed": false,
    "ExecuteTime": {
     "end_time": "2023-08-04T15:02:05.616368Z",
     "start_time": "2023-08-04T15:02:05.605117Z"
    }
   }
  },
  {
   "cell_type": "code",
   "execution_count": 76,
   "outputs": [],
   "source": [
    "bucket_prefix = 'mobile-price-data'\n",
    "train_path = session.upload_data(path='data/mobile-price-train.csv', bucket=bucket, key_prefix=bucket_prefix)\n",
    "test_path = session.upload_data(path='data/mobile-price-test.csv', bucket=bucket, key_prefix=bucket_prefix)"
   ],
   "metadata": {
    "collapsed": false,
    "ExecuteTime": {
     "end_time": "2023-08-04T15:02:06.380588Z",
     "start_time": "2023-08-04T15:02:05.768827Z"
    }
   }
  },
  {
   "cell_type": "code",
   "execution_count": 87,
   "outputs": [],
   "source": [
    "sklearn_estimator = SKLearn(\n",
    "    entry_point='sagemaker_script.py',\n",
    "    role=sagemaker_role,\n",
    "    instance_count=1,\n",
    "    instance_type=\"ml.m4.xlarge\",\n",
    "    framework_version='1.0-1',\n",
    "    base_job_name=\"mobile-price-clf-model\",\n",
    "    hyperparameters= {\"n_estimators\":100, \"random_state\": 0},\n",
    "    use_spot_instances=True,\n",
    "    max_wait=7200,\n",
    "    max_run=3600\n",
    ")"
   ],
   "metadata": {
    "collapsed": false,
    "ExecuteTime": {
     "end_time": "2023-08-04T15:24:53.508684Z",
     "start_time": "2023-08-04T15:24:53.133721Z"
    }
   }
  },
  {
   "cell_type": "code",
   "execution_count": 88,
   "outputs": [
    {
     "name": "stdout",
     "output_type": "stream",
     "text": [
      "s3://mobile-price/mobile-price-data/mobile-price-train.csv\n",
      "s3://mobile-price/mobile-price-data/mobile-price-test.csv\n"
     ]
    }
   ],
   "source": [
    "print(train_path)\n",
    "print(test_path)"
   ],
   "metadata": {
    "collapsed": false,
    "ExecuteTime": {
     "end_time": "2023-08-04T15:24:53.834836Z",
     "start_time": "2023-08-04T15:24:53.830500Z"
    }
   }
  },
  {
   "cell_type": "code",
   "execution_count": 89,
   "outputs": [
    {
     "name": "stdout",
     "output_type": "stream",
     "text": [
      "Using provided s3_resource\n"
     ]
    },
    {
     "name": "stderr",
     "output_type": "stream",
     "text": [
      "INFO:sagemaker:Creating training-job with name: mobile-price-clf-model-2023-08-04-15-24-54-939\n"
     ]
    },
    {
     "name": "stdout",
     "output_type": "stream",
     "text": [
      "2023-08-04 15:24:55 Starting - Starting the training job...\n",
      "2023-08-04 15:25:21 Starting - Preparing the instances for training.........\n",
      "2023-08-04 15:26:33 Downloading - Downloading input data...\n",
      "2023-08-04 15:27:13 Training - Downloading the training image...\n",
      "2023-08-04 15:27:54 Uploading - Uploading generated training model\u001B[34m2023-08-04 15:27:47,702 sagemaker-containers INFO     Imported framework sagemaker_sklearn_container.training\u001B[0m\n",
      "\u001B[34m2023-08-04 15:27:47,706 sagemaker-training-toolkit INFO     No GPUs detected (normal if no gpus installed)\u001B[0m\n",
      "\u001B[34m2023-08-04 15:27:47,716 sagemaker_sklearn_container.training INFO     Invoking user training script.\u001B[0m\n",
      "\u001B[34m2023-08-04 15:27:47,961 sagemaker-training-toolkit INFO     No GPUs detected (normal if no gpus installed)\u001B[0m\n",
      "\u001B[34m2023-08-04 15:27:47,976 sagemaker-training-toolkit INFO     No GPUs detected (normal if no gpus installed)\u001B[0m\n",
      "\u001B[34m2023-08-04 15:27:47,993 sagemaker-training-toolkit INFO     No GPUs detected (normal if no gpus installed)\u001B[0m\n",
      "\u001B[34m2023-08-04 15:27:48,004 sagemaker-training-toolkit INFO     Invoking user script\u001B[0m\n",
      "\u001B[34mTraining Env:\u001B[0m\n",
      "\u001B[34m{\n",
      "    \"additional_framework_parameters\": {},\n",
      "    \"channel_input_dirs\": {\n",
      "        \"test\": \"/opt/ml/input/data/test\",\n",
      "        \"train\": \"/opt/ml/input/data/train\"\n",
      "    },\n",
      "    \"current_host\": \"algo-1\",\n",
      "    \"framework_module\": \"sagemaker_sklearn_container.training:main\",\n",
      "    \"hosts\": [\n",
      "        \"algo-1\"\n",
      "    ],\n",
      "    \"hyperparameters\": {\n",
      "        \"n_estimators\": 100,\n",
      "        \"random_state\": 0\n",
      "    },\n",
      "    \"input_config_dir\": \"/opt/ml/input/config\",\n",
      "    \"input_data_config\": {\n",
      "        \"test\": {\n",
      "            \"TrainingInputMode\": \"File\",\n",
      "            \"S3DistributionType\": \"FullyReplicated\",\n",
      "            \"RecordWrapperType\": \"None\"\n",
      "        },\n",
      "        \"train\": {\n",
      "            \"TrainingInputMode\": \"File\",\n",
      "            \"S3DistributionType\": \"FullyReplicated\",\n",
      "            \"RecordWrapperType\": \"None\"\n",
      "        }\n",
      "    },\n",
      "    \"input_dir\": \"/opt/ml/input\",\n",
      "    \"is_master\": true,\n",
      "    \"job_name\": \"mobile-price-clf-model-2023-08-04-15-24-54-939\",\n",
      "    \"log_level\": 20,\n",
      "    \"master_hostname\": \"algo-1\",\n",
      "    \"model_dir\": \"/opt/ml/model\",\n",
      "    \"module_dir\": \"s3://sagemaker-us-east-1-882605792865/mobile-price-clf-model-2023-08-04-15-24-54-939/source/sourcedir.tar.gz\",\n",
      "    \"module_name\": \"script\",\n",
      "    \"network_interface_name\": \"eth0\",\n",
      "    \"num_cpus\": 4,\n",
      "    \"num_gpus\": 0,\n",
      "    \"output_data_dir\": \"/opt/ml/output/data\",\n",
      "    \"output_dir\": \"/opt/ml/output\",\n",
      "    \"output_intermediate_dir\": \"/opt/ml/output/intermediate\",\n",
      "    \"resource_config\": {\n",
      "        \"current_host\": \"algo-1\",\n",
      "        \"current_instance_type\": \"ml.m4.xlarge\",\n",
      "        \"current_group_name\": \"homogeneousCluster\",\n",
      "        \"hosts\": [\n",
      "            \"algo-1\"\n",
      "        ],\n",
      "        \"instance_groups\": [\n",
      "            {\n",
      "                \"instance_group_name\": \"homogeneousCluster\",\n",
      "                \"instance_type\": \"ml.m4.xlarge\",\n",
      "                \"hosts\": [\n",
      "                    \"algo-1\"\n",
      "                ]\n",
      "            }\n",
      "        ],\n",
      "        \"network_interface_name\": \"eth0\"\n",
      "    },\n",
      "    \"user_entry_point\": \"script.py\"\u001B[0m\n",
      "\u001B[34m}\u001B[0m\n",
      "\u001B[34mEnvironment variables:\u001B[0m\n",
      "\u001B[34mSM_HOSTS=[\"algo-1\"]\u001B[0m\n",
      "\u001B[34mSM_NETWORK_INTERFACE_NAME=eth0\u001B[0m\n",
      "\u001B[34mSM_HPS={\"n_estimators\":100,\"random_state\":0}\u001B[0m\n",
      "\u001B[34mSM_USER_ENTRY_POINT=script.py\u001B[0m\n",
      "\u001B[34mSM_FRAMEWORK_PARAMS={}\u001B[0m\n",
      "\u001B[34mSM_RESOURCE_CONFIG={\"current_group_name\":\"homogeneousCluster\",\"current_host\":\"algo-1\",\"current_instance_type\":\"ml.m4.xlarge\",\"hosts\":[\"algo-1\"],\"instance_groups\":[{\"hosts\":[\"algo-1\"],\"instance_group_name\":\"homogeneousCluster\",\"instance_type\":\"ml.m4.xlarge\"}],\"network_interface_name\":\"eth0\"}\u001B[0m\n",
      "\u001B[34mSM_INPUT_DATA_CONFIG={\"test\":{\"RecordWrapperType\":\"None\",\"S3DistributionType\":\"FullyReplicated\",\"TrainingInputMode\":\"File\"},\"train\":{\"RecordWrapperType\":\"None\",\"S3DistributionType\":\"FullyReplicated\",\"TrainingInputMode\":\"File\"}}\u001B[0m\n",
      "\u001B[34mSM_OUTPUT_DATA_DIR=/opt/ml/output/data\u001B[0m\n",
      "\u001B[34mSM_CHANNELS=[\"test\",\"train\"]\u001B[0m\n",
      "\u001B[34mSM_CURRENT_HOST=algo-1\u001B[0m\n",
      "\u001B[34mSM_MODULE_NAME=script\u001B[0m\n",
      "\u001B[34mSM_LOG_LEVEL=20\u001B[0m\n",
      "\u001B[34mSM_FRAMEWORK_MODULE=sagemaker_sklearn_container.training:main\u001B[0m\n",
      "\u001B[34mSM_INPUT_DIR=/opt/ml/input\u001B[0m\n",
      "\u001B[34mSM_INPUT_CONFIG_DIR=/opt/ml/input/config\u001B[0m\n",
      "\u001B[34mSM_OUTPUT_DIR=/opt/ml/output\u001B[0m\n",
      "\u001B[34mSM_NUM_CPUS=4\u001B[0m\n",
      "\u001B[34mSM_NUM_GPUS=0\u001B[0m\n",
      "\u001B[34mSM_MODEL_DIR=/opt/ml/model\u001B[0m\n",
      "\u001B[34mSM_MODULE_DIR=s3://sagemaker-us-east-1-882605792865/mobile-price-clf-model-2023-08-04-15-24-54-939/source/sourcedir.tar.gz\u001B[0m\n",
      "\u001B[34mSM_TRAINING_ENV={\"additional_framework_parameters\":{},\"channel_input_dirs\":{\"test\":\"/opt/ml/input/data/test\",\"train\":\"/opt/ml/input/data/train\"},\"current_host\":\"algo-1\",\"framework_module\":\"sagemaker_sklearn_container.training:main\",\"hosts\":[\"algo-1\"],\"hyperparameters\":{\"n_estimators\":100,\"random_state\":0},\"input_config_dir\":\"/opt/ml/input/config\",\"input_data_config\":{\"test\":{\"RecordWrapperType\":\"None\",\"S3DistributionType\":\"FullyReplicated\",\"TrainingInputMode\":\"File\"},\"train\":{\"RecordWrapperType\":\"None\",\"S3DistributionType\":\"FullyReplicated\",\"TrainingInputMode\":\"File\"}},\"input_dir\":\"/opt/ml/input\",\"is_master\":true,\"job_name\":\"mobile-price-clf-model-2023-08-04-15-24-54-939\",\"log_level\":20,\"master_hostname\":\"algo-1\",\"model_dir\":\"/opt/ml/model\",\"module_dir\":\"s3://sagemaker-us-east-1-882605792865/mobile-price-clf-model-2023-08-04-15-24-54-939/source/sourcedir.tar.gz\",\"module_name\":\"script\",\"network_interface_name\":\"eth0\",\"num_cpus\":4,\"num_gpus\":0,\"output_data_dir\":\"/opt/ml/output/data\",\"output_dir\":\"/opt/ml/output\",\"output_intermediate_dir\":\"/opt/ml/output/intermediate\",\"resource_config\":{\"current_group_name\":\"homogeneousCluster\",\"current_host\":\"algo-1\",\"current_instance_type\":\"ml.m4.xlarge\",\"hosts\":[\"algo-1\"],\"instance_groups\":[{\"hosts\":[\"algo-1\"],\"instance_group_name\":\"homogeneousCluster\",\"instance_type\":\"ml.m4.xlarge\"}],\"network_interface_name\":\"eth0\"},\"user_entry_point\":\"script.py\"}\u001B[0m\n",
      "\u001B[34mSM_USER_ARGS=[\"--n_estimators\",\"100\",\"--random_state\",\"0\"]\u001B[0m\n",
      "\u001B[34mSM_OUTPUT_INTERMEDIATE_DIR=/opt/ml/output/intermediate\u001B[0m\n",
      "\u001B[34mSM_CHANNEL_TEST=/opt/ml/input/data/test\u001B[0m\n",
      "\u001B[34mSM_CHANNEL_TRAIN=/opt/ml/input/data/train\u001B[0m\n",
      "\u001B[34mSM_HP_N_ESTIMATORS=100\u001B[0m\n",
      "\u001B[34mSM_HP_RANDOM_STATE=0\u001B[0m\n",
      "\u001B[34mPYTHONPATH=/opt/ml/code:/miniconda3/bin:/miniconda3/lib/python38.zip:/miniconda3/lib/python3.8:/miniconda3/lib/python3.8/lib-dynload:/miniconda3/lib/python3.8/site-packages\u001B[0m\n",
      "\u001B[34mInvoking script with the following command:\u001B[0m\n",
      "\u001B[34m/miniconda3/bin/python script.py --n_estimators 100 --random_state 0\u001B[0m\n",
      "\u001B[34m[INFO] Extracting arguments\u001B[0m\n",
      "\u001B[34msklearn version: 1.0.2\u001B[0m\n",
      "\u001B[34mJoblib version: 1.2.0\u001B[0m\n",
      "\u001B[34m[INFO] Reading data\u001B[0m\n",
      "\u001B[34mBuilding training and testing datasets\u001B[0m\n",
      "\u001B[34mTraining Data Shape\u001B[0m\n",
      "\u001B[34m(1700, 20)\u001B[0m\n",
      "\u001B[34m(1700,)\u001B[0m\n",
      "\u001B[34mTesting Data Shape\u001B[0m\n",
      "\u001B[34m(300, 20)\u001B[0m\n",
      "\u001B[34m(300,)\u001B[0m\n",
      "\u001B[34mTraining Random Forest Model\u001B[0m\n",
      "\u001B[34m[Parallel(n_jobs=1)]: Using backend SequentialBackend with 1 concurrent workers.\u001B[0m\n",
      "\u001B[34m[Parallel(n_jobs=1)]: Done 100 out of 100 | elapsed:    0.3s finished\u001B[0m\n",
      "\u001B[34mModel persisted at /opt/ml/model/model.joblib\u001B[0m\n",
      "\u001B[34m[Parallel(n_jobs=1)]: Using backend SequentialBackend with 1 concurrent workers.\u001B[0m\n",
      "\u001B[34m[Parallel(n_jobs=1)]: Done 100 out of 100 | elapsed:    0.0s finished\u001B[0m\n",
      "\u001B[34mMetrics\u001B[0m\n",
      "\u001B[34mTotal Rows: 300\u001B[0m\n",
      "\u001B[34m[TESTING] Model Accuracy: 0.8833333333333333\u001B[0m\n",
      "\u001B[34m[TESTING] Testing Report:\n",
      "              precision    recall  f1-score   support\n",
      "           0       0.95      1.00      0.97        69\n",
      "           1       0.85      0.80      0.83        66\n",
      "           2       0.80      0.77      0.79        74\n",
      "           3       0.91      0.95      0.93        91\n",
      "    accuracy                           0.88       300\n",
      "   macro avg       0.88      0.88      0.88       300\u001B[0m\n",
      "\u001B[34mweighted avg       0.88      0.88      0.88       300\u001B[0m\n",
      "\u001B[34m2023-08-04 15:27:49,717 sagemaker-containers INFO     Reporting training SUCCESS\u001B[0m\n",
      "\n",
      "2023-08-04 15:28:05 Completed - Training job completed\n",
      "Training seconds: 92\n",
      "Billable seconds: 33\n",
      "Managed Spot Training savings: 64.1%\n"
     ]
    }
   ],
   "source": [
    "sklearn_estimator.fit({\"train\": train_path, \"test\": test_path}, wait=True)"
   ],
   "metadata": {
    "collapsed": false,
    "ExecuteTime": {
     "end_time": "2023-08-04T15:28:42.277600Z",
     "start_time": "2023-08-04T15:24:54.942934Z"
    }
   }
  },
  {
   "cell_type": "code",
   "execution_count": 93,
   "outputs": [
    {
     "name": "stdout",
     "output_type": "stream",
     "text": [
      "\n",
      "2023-08-04 15:28:05 Starting - Preparing the instances for training\n",
      "2023-08-04 15:28:05 Downloading - Downloading input data\n",
      "2023-08-04 15:28:05 Training - Training image download completed. Training in progress.\n",
      "2023-08-04 15:28:05 Uploading - Uploading generated training model\n",
      "2023-08-04 15:28:05 Completed - Training job completed\n",
      "Model artifact persisted at s3://sagemaker-us-east-1-882605792865/mobile-price-clf-model-2023-08-04-15-24-54-939/output/model.tar.gz\n"
     ]
    }
   ],
   "source": [
    "sklearn_estimator.latest_training_job.wait(logs=\"None\")\n",
    "artifact = session.describe_training_job(job_name=sklearn_estimator.latest_training_job.name)[\"ModelArtifacts\"][\"S3ModelArtifacts\"]\n",
    "\n",
    "print(f\"Model artifact persisted at {artifact}\")"
   ],
   "metadata": {
    "collapsed": false,
    "ExecuteTime": {
     "end_time": "2023-08-04T23:41:52.856989Z",
     "start_time": "2023-08-04T23:41:47.696356Z"
    }
   }
  },
  {
   "cell_type": "code",
   "execution_count": 94,
   "outputs": [],
   "source": [
    "from sagemaker.sklearn.model import SKLearnModel\n",
    "from time import gmtime, strftime\n",
    "\n",
    "model_name = 'mobile-price-clf-' + strftime(\"%Y-%m-%d-%H-%M-%S\", gmtime())\n",
    "model = SKLearnModel(\n",
    "    name=model_name,\n",
    "    model_data=artifact,\n",
    "    role=sagemaker_role,\n",
    "    entry_point=\"sagemaker_script.py\",\n",
    "    framework_version=\"1.0-1\"\n",
    ")"
   ],
   "metadata": {
    "collapsed": false,
    "ExecuteTime": {
     "end_time": "2023-08-04T23:43:58.635Z",
     "start_time": "2023-08-04T23:43:58.633202Z"
    }
   }
  },
  {
   "cell_type": "code",
   "execution_count": 96,
   "outputs": [
    {
     "name": "stdout",
     "output_type": "stream",
     "text": [
      "Endpoint Name = mobile-price-clf-2023-08-04-23-45-24\n"
     ]
    },
    {
     "name": "stderr",
     "output_type": "stream",
     "text": [
      "INFO:sagemaker:Creating model with name: mobile-price-clf-2023-08-04-23-43-58\n",
      "INFO:sagemaker:Creating endpoint-config with name mobile-price-clf-2023-08-04-23-45-24\n",
      "INFO:sagemaker:Creating endpoint with name mobile-price-clf-2023-08-04-23-45-24\n"
     ]
    },
    {
     "name": "stdout",
     "output_type": "stream",
     "text": [
      "-------!"
     ]
    }
   ],
   "source": [
    "endpoint_name = 'mobile-price-clf-' + strftime(\"%Y-%m-%d-%H-%M-%S\", gmtime())\n",
    "print(f\"Endpoint Name = {endpoint_name}\")\n",
    "\n",
    "predictor = model.deploy(\n",
    "    initial_instance_count=1,\n",
    "    instance_type=\"ml.m4.xlarge\",\n",
    "    endpoint_name=endpoint_name\n",
    ")"
   ],
   "metadata": {
    "collapsed": false,
    "ExecuteTime": {
     "end_time": "2023-08-04T23:49:28.472765Z",
     "start_time": "2023-08-04T23:45:24.710398Z"
    }
   }
  },
  {
   "cell_type": "code",
   "execution_count": 97,
   "outputs": [
    {
     "data": {
      "text/plain": "'mobile-price-clf-2023-08-04-23-45-24'"
     },
     "execution_count": 97,
     "metadata": {},
     "output_type": "execute_result"
    }
   ],
   "source": [
    "endpoint_name"
   ],
   "metadata": {
    "collapsed": false,
    "ExecuteTime": {
     "end_time": "2023-08-04T23:49:28.481108Z",
     "start_time": "2023-08-04T23:49:28.478014Z"
    }
   }
  },
  {
   "cell_type": "code",
   "execution_count": 98,
   "outputs": [
    {
     "name": "stdout",
     "output_type": "stream",
     "text": [
      "[3 0]\n"
     ]
    }
   ],
   "source": [
    "print(predictor.predict(test_x[features][0:2].values.tolist()))"
   ],
   "metadata": {
    "collapsed": false,
    "ExecuteTime": {
     "end_time": "2023-08-04T23:49:28.826271Z",
     "start_time": "2023-08-04T23:49:28.491662Z"
    }
   }
  },
  {
   "cell_type": "code",
   "execution_count": 99,
   "outputs": [
    {
     "name": "stderr",
     "output_type": "stream",
     "text": [
      "INFO:sagemaker:Deleting endpoint with name: mobile-price-clf-2023-08-04-23-45-24\n"
     ]
    }
   ],
   "source": [
    "session.delete_endpoint(endpoint_name=endpoint_name)"
   ],
   "metadata": {
    "collapsed": false,
    "ExecuteTime": {
     "end_time": "2023-08-04T23:49:29.116750Z",
     "start_time": "2023-08-04T23:49:28.831390Z"
    }
   }
  },
  {
   "cell_type": "code",
   "execution_count": null,
   "outputs": [],
   "source": [],
   "metadata": {
    "collapsed": false
   }
  }
 ],
 "metadata": {
  "kernelspec": {
   "display_name": "Python 3",
   "language": "python",
   "name": "python3"
  },
  "language_info": {
   "codemirror_mode": {
    "name": "ipython",
    "version": 2
   },
   "file_extension": ".py",
   "mimetype": "text/x-python",
   "name": "python",
   "nbconvert_exporter": "python",
   "pygments_lexer": "ipython2",
   "version": "2.7.6"
  }
 },
 "nbformat": 4,
 "nbformat_minor": 0
}
